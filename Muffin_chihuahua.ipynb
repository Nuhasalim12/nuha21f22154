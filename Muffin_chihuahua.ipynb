{
  "nbformat": 4,
  "nbformat_minor": 0,
  "metadata": {
    "colab": {
      "provenance": []
    },
    "kernelspec": {
      "name": "python3",
      "display_name": "Python 3"
    },
    "language_info": {
      "name": "python"
    }
  },
  "cells": [
    {
      "cell_type": "code",
      "execution_count": 1,
      "metadata": {
        "colab": {
          "base_uri": "https://localhost:8080/"
        },
        "id": "UD5C2SEuH1R2",
        "outputId": "f105335f-fb88-48b7-8f32-57c910dca798"
      },
      "outputs": [
        {
          "output_type": "stream",
          "name": "stdout",
          "text": [
            "Mounted at /content/drive\n"
          ]
        }
      ],
      "source": [
        "#My dataset is available in googledrive; so I am accessing my drive from colab\n",
        "from google.colab import drive\n",
        "drive.mount('/content/drive', force_remount=True)\n",
        "#Once this is executed, you will see your drive appearing on the left hand side"
      ]
    },
    {
      "cell_type": "code",
      "source": [
        "# Define paths to the dataset\n",
        "train_dir = '/content/drive/MyDrive/train (1)'  # Update with your actual path\n",
        "test_dir = '/content/drive/MyDrive/test (1)'    # Update with your actual path"
      ],
      "metadata": {
        "id": "PLqHA9sUIgpn"
      },
      "execution_count": 2,
      "outputs": []
    },
    {
      "cell_type": "code",
      "source": [
        "import os\n",
        "print(len(os.listdir('/content/drive/MyDrive/train (1)/chihuahua')))\n",
        "print(len(os.listdir('/content/drive/MyDrive/train (1)/muffin')))\n",
        "print(len(os.listdir('/content/drive/MyDrive/test (1)/chihuahua')))\n",
        "print(len(os.listdir('/content/drive/MyDrive/test (1)/muffin')))"
      ],
      "metadata": {
        "colab": {
          "base_uri": "https://localhost:8080/"
        },
        "id": "cj-CZGA-Io94",
        "outputId": "df5c298e-6e9e-4f73-be73-56559c8f746e"
      },
      "execution_count": 3,
      "outputs": [
        {
          "output_type": "stream",
          "name": "stdout",
          "text": [
            "500\n",
            "500\n",
            "160\n",
            "144\n"
          ]
        }
      ]
    },
    {
      "cell_type": "code",
      "source": [
        "import tensorflow as tf\n",
        "from tensorflow.keras.preprocessing.image import ImageDataGenerator\n",
        "\n",
        "# Create ImageDataGenerator for training set\n",
        "train_datagen = ImageDataGenerator(\n",
        "    rescale=1./255,\n",
        "    validation_split=0.2  # Split 20% of the images for validation\n",
        ")\n",
        "\n",
        "# Load and prepare training data\n",
        "train_data = train_datagen.flow_from_directory(\n",
        "    train_dir,\n",
        "    target_size=(256,256),\n",
        "    batch_size=32,\n",
        "    class_mode='binary',  # 'binary' for binary classification (Muffin vs. chihuahua)\n",
        "    subset='training'  # Specify 'training' for the training set\n",
        ")\n",
        "\n",
        "# Create ImageDataGenerator for validation set\n",
        "validation_datagen = ImageDataGenerator(\n",
        "    rescale=1./255,\n",
        "    validation_split=0.2  # Note: Using the same validation split as in the training set\n",
        ")\n",
        "\n",
        "# Load and prepare validation data\n",
        "validation_data = validation_datagen.flow_from_directory(\n",
        "    train_dir,\n",
        "    target_size=(256,256),\n",
        "    batch_size=32,\n",
        "    class_mode='binary',\n",
        "    subset='validation'  # Specify 'validation' for the validation set\n",
        ")"
      ],
      "metadata": {
        "colab": {
          "base_uri": "https://localhost:8080/"
        },
        "id": "mrDp3lKBJJRC",
        "outputId": "3e925bc6-092a-4579-bd4f-b0621f6476c9"
      },
      "execution_count": 5,
      "outputs": [
        {
          "output_type": "stream",
          "name": "stdout",
          "text": [
            "Found 800 images belonging to 2 classes.\n",
            "Found 200 images belonging to 2 classes.\n"
          ]
        }
      ]
    },
    {
      "cell_type": "code",
      "source": [
        "from tensorflow import keras\n",
        "from keras import Sequential\n",
        "from keras.layers import Dense,Conv2D,MaxPooling2D,Flatten,BatchNormalization,UpSampling2D, Dropout"
      ],
      "metadata": {
        "id": "RwmcPRHFJwL3"
      },
      "execution_count": 6,
      "outputs": []
    },
    {
      "cell_type": "code",
      "source": [
        "# create CNN model\n",
        "\n",
        "model = Sequential()\n",
        "\n",
        "model.add(Conv2D(32,kernel_size=(3,3),padding='valid',activation='relu',input_shape=(256,256,3)))  # 32 filters\n",
        "#model.add(BatchNormalization())  # added to reduce overfitting\n",
        "model.add(MaxPooling2D(pool_size=(2,2),strides=2,padding='valid'))\n",
        "\n",
        "model.add(Conv2D(64,kernel_size=(3,3),padding='valid',activation='relu'))\n",
        "#model.add(BatchNormalization())  # added to reduce overfitting\n",
        "model.add(MaxPooling2D(pool_size=(2,2),strides=2,padding='valid'))\n",
        "\n",
        "model.add(Conv2D(128,kernel_size=(3,3),padding='valid',activation='relu'))\n",
        "#model.add(BatchNormalization())  # added to reduce overfitting\n",
        "model.add(MaxPooling2D(pool_size=(2,2),strides=2,padding='valid'))\n",
        "\n",
        "model.add(Flatten())\n",
        "\n",
        "model.add(Dense(128,activation='relu')) #feature reduction\n",
        "#model.add(Dropout(0.1))  # added to reduce overfitting\n",
        "model.add(Dense(64,activation='relu'))\n",
        "#model.add(Dropout(0.1))  # added to reduce overfitting\n",
        "model.add(Dense(1,activation='sigmoid'))  #output layer"
      ],
      "metadata": {
        "id": "VJL7u5DIJ5Ju"
      },
      "execution_count": 7,
      "outputs": []
    },
    {
      "cell_type": "code",
      "source": [
        "from keras.optimizers import Adam\n",
        "model.compile(optimizer=Adam(learning_rate=0.001),loss='binary_crossentropy',metrics=['accuracy']) #binary_crossentropy - binary classification"
      ],
      "metadata": {
        "id": "3x78yBGTJ8MP"
      },
      "execution_count": 8,
      "outputs": []
    },
    {
      "cell_type": "code",
      "source": [
        "history = model.fit(train_data, epochs=20, validation_data=validation_data)"
      ],
      "metadata": {
        "colab": {
          "base_uri": "https://localhost:8080/"
        },
        "id": "DKgwIWptKBdr",
        "outputId": "68093399-8a82-406c-9f75-1e8faaf80026"
      },
      "execution_count": 9,
      "outputs": [
        {
          "output_type": "stream",
          "name": "stdout",
          "text": [
            "Epoch 1/20\n",
            "25/25 [==============================] - 171s 7s/step - loss: 0.8295 - accuracy: 0.5725 - val_loss: 0.5660 - val_accuracy: 0.7500\n",
            "Epoch 2/20\n",
            "25/25 [==============================] - 142s 6s/step - loss: 0.5336 - accuracy: 0.7487 - val_loss: 0.4044 - val_accuracy: 0.8250\n",
            "Epoch 3/20\n",
            "25/25 [==============================] - 138s 6s/step - loss: 0.4339 - accuracy: 0.8050 - val_loss: 0.4574 - val_accuracy: 0.7750\n",
            "Epoch 4/20\n",
            "25/25 [==============================] - 141s 6s/step - loss: 0.3389 - accuracy: 0.8600 - val_loss: 0.5025 - val_accuracy: 0.8050\n",
            "Epoch 5/20\n",
            "25/25 [==============================] - 149s 6s/step - loss: 0.2131 - accuracy: 0.9200 - val_loss: 0.4420 - val_accuracy: 0.8400\n",
            "Epoch 6/20\n",
            "25/25 [==============================] - 141s 6s/step - loss: 0.2219 - accuracy: 0.9212 - val_loss: 0.6580 - val_accuracy: 0.7250\n",
            "Epoch 7/20\n",
            "25/25 [==============================] - 135s 5s/step - loss: 0.1735 - accuracy: 0.9388 - val_loss: 0.5663 - val_accuracy: 0.8350\n",
            "Epoch 8/20\n",
            "25/25 [==============================] - 136s 5s/step - loss: 0.0780 - accuracy: 0.9800 - val_loss: 0.6099 - val_accuracy: 0.8050\n",
            "Epoch 9/20\n",
            "25/25 [==============================] - 141s 6s/step - loss: 0.0564 - accuracy: 0.9850 - val_loss: 0.7117 - val_accuracy: 0.8250\n",
            "Epoch 10/20\n",
            "25/25 [==============================] - 136s 5s/step - loss: 0.0246 - accuracy: 0.9937 - val_loss: 0.9015 - val_accuracy: 0.8450\n",
            "Epoch 11/20\n",
            "25/25 [==============================] - 143s 6s/step - loss: 0.0097 - accuracy: 0.9987 - val_loss: 1.0424 - val_accuracy: 0.8100\n",
            "Epoch 12/20\n",
            "25/25 [==============================] - 127s 5s/step - loss: 0.0131 - accuracy: 0.9962 - val_loss: 1.2372 - val_accuracy: 0.8100\n",
            "Epoch 13/20\n",
            "25/25 [==============================] - 135s 5s/step - loss: 0.0034 - accuracy: 1.0000 - val_loss: 1.1243 - val_accuracy: 0.8150\n",
            "Epoch 14/20\n",
            "25/25 [==============================] - 130s 5s/step - loss: 9.3633e-04 - accuracy: 1.0000 - val_loss: 1.1944 - val_accuracy: 0.8200\n",
            "Epoch 15/20\n",
            "25/25 [==============================] - 141s 6s/step - loss: 5.2071e-04 - accuracy: 1.0000 - val_loss: 1.2235 - val_accuracy: 0.8250\n",
            "Epoch 16/20\n",
            "25/25 [==============================] - 140s 6s/step - loss: 3.6045e-04 - accuracy: 1.0000 - val_loss: 1.2660 - val_accuracy: 0.8250\n",
            "Epoch 17/20\n",
            "25/25 [==============================] - 157s 6s/step - loss: 2.8384e-04 - accuracy: 1.0000 - val_loss: 1.2909 - val_accuracy: 0.8250\n",
            "Epoch 18/20\n",
            "25/25 [==============================] - 148s 6s/step - loss: 2.3436e-04 - accuracy: 1.0000 - val_loss: 1.3218 - val_accuracy: 0.8250\n",
            "Epoch 19/20\n",
            "25/25 [==============================] - 141s 6s/step - loss: 1.9765e-04 - accuracy: 1.0000 - val_loss: 1.3365 - val_accuracy: 0.8250\n",
            "Epoch 20/20\n",
            "25/25 [==============================] - 132s 5s/step - loss: 1.7057e-04 - accuracy: 1.0000 - val_loss: 1.3469 - val_accuracy: 0.8350\n"
          ]
        }
      ]
    },
    {
      "cell_type": "code",
      "source": [
        "import matplotlib.pyplot as plt\n",
        "\n",
        "plt.plot(history.history['accuracy'],color='red',label='train')\n",
        "plt.plot(history.history['val_accuracy'],color='blue',label='validation')\n",
        "plt.legend()\n",
        "plt.show()"
      ],
      "metadata": {
        "colab": {
          "base_uri": "https://localhost:8080/",
          "height": 430
        },
        "id": "WeXSOOJhW79s",
        "outputId": "2094e14b-63d6-4261-dff1-f574ddda3219"
      },
      "execution_count": 10,
      "outputs": [
        {
          "output_type": "display_data",
          "data": {
            "text/plain": [
              "<Figure size 640x480 with 1 Axes>"
            ],
            "image/png": "[encoded data removed]"
          },
          "metadata": {}
        }
      ]
    },
    {
      "cell_type": "code",
      "source": [
        "plt.plot(history.history['loss'],color='red',label='train')\n",
        "plt.plot(history.history['val_loss'],color='blue',label='validation')\n",
        "plt.legend()\n",
        "plt.show()"
      ],
      "metadata": {
        "colab": {
          "base_uri": "https://localhost:8080/",
          "height": 432
        },
        "id": "kMtZHNSAXF70",
        "outputId": "63850be5-70cc-46ec-ae49-e081fc37fa12"
      },
      "execution_count": 11,
      "outputs": [
        {
          "output_type": "display_data",
          "data": {
            "text/plain": [
              "<Figure size 640x480 with 1 Axes>"
            ],
            "image/png": "[encoded data removed]"
          },
          "metadata": {}
        }
      ]
    },
    {
      "cell_type": "code",
      "source": [
        "test_datagen = ImageDataGenerator(rescale=1./255)\n",
        "test_data = test_datagen.flow_from_directory(\n",
        "    test_dir,\n",
        "    target_size=(256,256),\n",
        "    batch_size=32,\n",
        "    class_mode='binary'\n",
        ")"
      ],
      "metadata": {
        "colab": {
          "base_uri": "https://localhost:8080/"
        },
        "id": "WEznqI0mXUfw",
        "outputId": "e16e9ec7-c481-4111-ce07-f7331d2b270f"
      },
      "execution_count": 12,
      "outputs": [
        {
          "output_type": "stream",
          "name": "stdout",
          "text": [
            "Found 304 images belonging to 2 classes.\n"
          ]
        }
      ]
    },
    {
      "cell_type": "code",
      "source": [
        "#predict the test data\n",
        "predictions = model.predict(test_data)\n",
        "print(predictions)"
      ],
      "metadata": {
        "colab": {
          "base_uri": "https://localhost:8080/"
        },
        "id": "tqcGq166XYnd",
        "outputId": "0a16a504-4c13-4c20-936f-046ceaa55ac8"
      },
      "execution_count": 13,
      "outputs": [
        {
          "output_type": "stream",
          "name": "stdout",
          "text": [
            "10/10 [==============================] - 39s 4s/step\n",
            "[[7.84971844e-03]\n",
            " [9.97985721e-01]\n",
            " [2.75546317e-05]\n",
            " [1.09678749e-02]\n",
            " [4.31299595e-05]\n",
            " [9.85774040e-01]\n",
            " [8.19159269e-01]\n",
            " [9.99999940e-01]\n",
            " [9.98890042e-01]\n",
            " [7.00694047e-19]\n",
            " [1.00000000e+00]\n",
            " [1.00000000e+00]\n",
            " [9.99999821e-01]\n",
            " [9.69567736e-07]\n",
            " [1.63607001e-01]\n",
            " [4.99390438e-03]\n",
            " [6.36530574e-04]\n",
            " [1.91504147e-03]\n",
            " [9.99463618e-01]\n",
            " [1.42268092e-07]\n",
            " [4.21173483e-01]\n",
            " [1.35687989e-10]\n",
            " [9.97632086e-01]\n",
            " [4.90249079e-07]\n",
            " [1.78436920e-12]\n",
            " [9.65854619e-03]\n",
            " [1.17251027e-08]\n",
            " [1.90565169e-01]\n",
            " [1.00000000e+00]\n",
            " [2.59070937e-03]\n",
            " [3.87859374e-01]\n",
            " [2.35034083e-03]\n",
            " [9.81789112e-01]\n",
            " [3.30921665e-07]\n",
            " [9.54768300e-01]\n",
            " [3.69055755e-03]\n",
            " [9.99998271e-01]\n",
            " [9.99948800e-01]\n",
            " [7.70903785e-10]\n",
            " [3.52523178e-02]\n",
            " [7.35954964e-04]\n",
            " [1.14420790e-03]\n",
            " [6.88541830e-02]\n",
            " [7.45272823e-03]\n",
            " [1.00000000e+00]\n",
            " [9.96717870e-01]\n",
            " [9.54809308e-01]\n",
            " [8.88510476e-06]\n",
            " [9.19123113e-01]\n",
            " [9.99835670e-01]\n",
            " [1.00000000e+00]\n",
            " [9.99950349e-01]\n",
            " [1.00000000e+00]\n",
            " [1.24766864e-02]\n",
            " [6.77265285e-04]\n",
            " [9.99911964e-01]\n",
            " [1.13606188e-06]\n",
            " [3.75502420e-20]\n",
            " [9.95897710e-01]\n",
            " [9.50356668e-11]\n",
            " [9.99996841e-01]\n",
            " [2.16178782e-03]\n",
            " [1.11543341e-05]\n",
            " [8.39531600e-01]\n",
            " [2.93327759e-07]\n",
            " [3.17132799e-06]\n",
            " [9.99926925e-01]\n",
            " [3.17117154e-25]\n",
            " [9.99999642e-01]\n",
            " [1.48856497e-10]\n",
            " [3.85449095e-12]\n",
            " [7.65367159e-10]\n",
            " [9.99999762e-01]\n",
            " [9.99999881e-01]\n",
            " [1.00000000e+00]\n",
            " [7.42911473e-02]\n",
            " [6.78225746e-03]\n",
            " [9.99646485e-01]\n",
            " [9.99858379e-01]\n",
            " [9.45157808e-05]\n",
            " [6.35951385e-02]\n",
            " [9.85691547e-01]\n",
            " [2.49461025e-01]\n",
            " [9.97748435e-01]\n",
            " [2.46992540e-02]\n",
            " [1.00000000e+00]\n",
            " [2.52752652e-04]\n",
            " [2.23555113e-03]\n",
            " [2.30211754e-06]\n",
            " [6.74902253e-07]\n",
            " [9.49556231e-01]\n",
            " [2.12906867e-01]\n",
            " [1.00000000e+00]\n",
            " [8.60138627e-09]\n",
            " [2.41167678e-21]\n",
            " [1.00000000e+00]\n",
            " [4.74082917e-05]\n",
            " [2.36486568e-12]\n",
            " [1.72819732e-08]\n",
            " [7.59655377e-03]\n",
            " [8.75491083e-01]\n",
            " [1.00000000e+00]\n",
            " [1.00000000e+00]\n",
            " [3.77574592e-15]\n",
            " [1.00000000e+00]\n",
            " [9.91389453e-01]\n",
            " [4.75710183e-12]\n",
            " [2.93516241e-05]\n",
            " [4.18183981e-06]\n",
            " [9.92432594e-01]\n",
            " [7.55951881e-01]\n",
            " [9.92342532e-01]\n",
            " [9.99997914e-01]\n",
            " [2.45771348e-03]\n",
            " [4.04479323e-15]\n",
            " [2.83836653e-05]\n",
            " [1.38771051e-04]\n",
            " [9.99962330e-01]\n",
            " [9.12190795e-01]\n",
            " [9.99999166e-01]\n",
            " [5.55084407e-01]\n",
            " [2.19318781e-06]\n",
            " [1.13269809e-04]\n",
            " [1.07248528e-02]\n",
            " [9.98802245e-01]\n",
            " [8.52440098e-06]\n",
            " [1.00000000e+00]\n",
            " [9.99946594e-01]\n",
            " [9.99999821e-01]\n",
            " [8.74314184e-16]\n",
            " [1.00000000e+00]\n",
            " [2.01103703e-05]\n",
            " [9.99999404e-01]\n",
            " [9.99998748e-01]\n",
            " [7.79568654e-06]\n",
            " [9.99990582e-01]\n",
            " [9.99993086e-01]\n",
            " [1.01413220e-01]\n",
            " [1.56409119e-09]\n",
            " [2.83292115e-01]\n",
            " [1.00000000e+00]\n",
            " [4.31500189e-02]\n",
            " [1.08120847e-11]\n",
            " [8.71210754e-01]\n",
            " [4.19520463e-09]\n",
            " [4.27299351e-01]\n",
            " [9.99996662e-01]\n",
            " [9.99993980e-01]\n",
            " [2.13494874e-03]\n",
            " [9.99999642e-01]\n",
            " [9.99999642e-01]\n",
            " [5.17605396e-04]\n",
            " [1.37357041e-01]\n",
            " [7.40276635e-01]\n",
            " [9.99999583e-01]\n",
            " [1.00000000e+00]\n",
            " [4.25513834e-02]\n",
            " [5.12769744e-02]\n",
            " [6.41839279e-07]\n",
            " [3.69945010e-05]\n",
            " [9.99992013e-01]\n",
            " [9.78915989e-01]\n",
            " [1.17589570e-05]\n",
            " [1.00000000e+00]\n",
            " [2.72887962e-11]\n",
            " [4.33207577e-04]\n",
            " [6.41988663e-07]\n",
            " [9.21463070e-05]\n",
            " [7.18281663e-04]\n",
            " [9.99542832e-01]\n",
            " [6.89438654e-12]\n",
            " [1.05822417e-09]\n",
            " [9.99986649e-01]\n",
            " [9.38290179e-01]\n",
            " [1.84357151e-01]\n",
            " [1.00000000e+00]\n",
            " [6.52116956e-04]\n",
            " [1.94906730e-11]\n",
            " [1.67770926e-15]\n",
            " [1.00669539e-09]\n",
            " [4.13368225e-01]\n",
            " [8.04674089e-01]\n",
            " [2.74566963e-04]\n",
            " [1.16234027e-04]\n",
            " [1.54396512e-05]\n",
            " [2.69514130e-04]\n",
            " [9.99999881e-01]\n",
            " [4.60215518e-03]\n",
            " [1.00000000e+00]\n",
            " [8.28313053e-01]\n",
            " [9.37611520e-01]\n",
            " [1.62428987e-04]\n",
            " [1.00000000e+00]\n",
            " [7.80980772e-05]\n",
            " [5.25139272e-01]\n",
            " [9.56223998e-03]\n",
            " [6.51343024e-09]\n",
            " [8.21949542e-02]\n",
            " [6.68206440e-07]\n",
            " [7.43652940e-01]\n",
            " [9.99998868e-01]\n",
            " [2.21695771e-07]\n",
            " [3.19569884e-03]\n",
            " [8.43665063e-01]\n",
            " [4.33539799e-06]\n",
            " [1.35472327e-01]\n",
            " [8.21352065e-01]\n",
            " [9.99992847e-01]\n",
            " [1.00000000e+00]\n",
            " [1.20566842e-16]\n",
            " [9.99993563e-01]\n",
            " [9.99783933e-01]\n",
            " [1.00000000e+00]\n",
            " [7.34712742e-03]\n",
            " [1.03398679e-05]\n",
            " [1.25664747e-06]\n",
            " [2.19245157e-06]\n",
            " [1.00000000e+00]\n",
            " [2.58061482e-06]\n",
            " [1.54656160e-03]\n",
            " [3.23810875e-02]\n",
            " [2.83939615e-02]\n",
            " [9.94951546e-01]\n",
            " [1.00000000e+00]\n",
            " [1.00000000e+00]\n",
            " [9.99999881e-01]\n",
            " [9.94421661e-01]\n",
            " [1.29624532e-04]\n",
            " [1.00000000e+00]\n",
            " [8.40981841e-01]\n",
            " [9.99999642e-01]\n",
            " [2.87803232e-06]\n",
            " [1.00000000e+00]\n",
            " [5.81904260e-07]\n",
            " [9.98298228e-01]\n",
            " [3.59111640e-04]\n",
            " [1.87660232e-01]\n",
            " [4.67441410e-01]\n",
            " [7.50775263e-03]\n",
            " [9.99934733e-01]\n",
            " [9.99336779e-01]\n",
            " [1.00000000e+00]\n",
            " [9.99974191e-01]\n",
            " [9.99993503e-01]\n",
            " [9.99041915e-01]\n",
            " [3.73538285e-02]\n",
            " [1.49421343e-11]\n",
            " [9.53872442e-01]\n",
            " [9.75096345e-01]\n",
            " [2.31653103e-05]\n",
            " [1.00000000e+00]\n",
            " [9.65572119e-01]\n",
            " [7.56233817e-07]\n",
            " [7.27993203e-04]\n",
            " [9.99999881e-01]\n",
            " [5.79779335e-05]\n",
            " [9.99998868e-01]\n",
            " [8.59122053e-02]\n",
            " [1.32337399e-02]\n",
            " [1.97080169e-02]\n",
            " [9.99694467e-01]\n",
            " [1.12066315e-04]\n",
            " [9.99936879e-01]\n",
            " [2.18359530e-09]\n",
            " [9.99964595e-01]\n",
            " [9.99984860e-01]\n",
            " [2.74932361e-04]\n",
            " [4.89918049e-04]\n",
            " [3.19807068e-03]\n",
            " [4.86069673e-09]\n",
            " [1.00000000e+00]\n",
            " [1.04242332e-01]\n",
            " [1.00000000e+00]\n",
            " [6.05653405e-01]\n",
            " [7.61840784e-04]\n",
            " [9.99999642e-01]\n",
            " [1.00000000e+00]\n",
            " [1.00000000e+00]\n",
            " [4.76497382e-01]\n",
            " [9.99999881e-01]\n",
            " [9.99911249e-01]\n",
            " [4.59720334e-03]\n",
            " [1.06452865e-06]\n",
            " [9.99985158e-01]\n",
            " [9.99590099e-01]\n",
            " [1.00000000e+00]\n",
            " [9.99999821e-01]\n",
            " [5.88185906e-01]\n",
            " [1.00000000e+00]\n",
            " [9.99979973e-01]\n",
            " [9.94075954e-01]\n",
            " [9.99174416e-01]\n",
            " [6.23702910e-03]\n",
            " [3.41756991e-03]\n",
            " [9.63385105e-01]\n",
            " [9.99958873e-01]\n",
            " [4.56560301e-08]\n",
            " [1.08251267e-03]\n",
            " [3.91208814e-05]\n",
            " [1.71267035e-04]\n",
            " [2.46946074e-05]\n",
            " [7.83819298e-04]\n",
            " [7.63566810e-09]\n",
            " [9.99672413e-01]]\n"
          ]
        }
      ]
    },
    {
      "cell_type": "code",
      "source": [
        "len(predictions)"
      ],
      "metadata": {
        "colab": {
          "base_uri": "https://localhost:8080/"
        },
        "id": "5312vAXsXpiL",
        "outputId": "0b4be4aa-2968-4afe-8e36-02b2eabafac3"
      },
      "execution_count": 14,
      "outputs": [
        {
          "output_type": "execute_result",
          "data": {
            "text/plain": [
              "304"
            ]
          },
          "metadata": {},
          "execution_count": 14
        }
      ]
    },
    {
      "cell_type": "code",
      "source": [
        "from sklearn.metrics import confusion_matrix, classification_report\n",
        "\n",
        "# Assuming you have ground truth labels (true_labels) and predicted labels (predictions)\n",
        "true_labels = test_data.classes\n",
        "predicted_labels = (predictions > 0.5).astype(int)  # Adjust the threshold as needed\n",
        "\n",
        "# Calculate confusion matrix\n",
        "cm = confusion_matrix(true_labels, predicted_labels)\n",
        "\n",
        "# Print confusion matrix\n",
        "print(\"Confusion Matrix:\")\n",
        "print(cm)\n",
        "\n",
        "# Print classification report\n",
        "print(\"Classification Report:\")\n",
        "print(classification_report(true_labels, predicted_labels))"
      ],
      "metadata": {
        "colab": {
          "base_uri": "https://localhost:8080/"
        },
        "id": "Vd2ENoVtXwHD",
        "outputId": "0c111873-034f-46b1-ea05-dd1d39e7f208"
      },
      "execution_count": 15,
      "outputs": [
        {
          "output_type": "stream",
          "name": "stdout",
          "text": [
            "Confusion Matrix:\n",
            "[[89 71]\n",
            " [74 70]]\n",
            "Classification Report:\n",
            "              precision    recall  f1-score   support\n",
            "\n",
            "           0       0.55      0.56      0.55       160\n",
            "           1       0.50      0.49      0.49       144\n",
            "\n",
            "    accuracy                           0.52       304\n",
            "   macro avg       0.52      0.52      0.52       304\n",
            "weighted avg       0.52      0.52      0.52       304\n",
            "\n"
          ]
        }
      ]
    },
    {
      "cell_type": "code",
      "source": [
        "#My dataset is available in googledrive; so I am accessing my drive from colab\n",
        "from google.colab import drive\n",
        "drive.mount('/content/drive', force_remount=True)\n",
        "#Once this is executed, you will see your drive appearing on the left hand side"
      ],
      "metadata": {
        "colab": {
          "base_uri": "https://localhost:8080/"
        },
        "id": "LfBSekjgYRIz",
        "outputId": "008f989b-1bb8-478e-a30d-d52fc8cf3ffc"
      },
      "execution_count": 17,
      "outputs": [
        {
          "output_type": "stream",
          "name": "stdout",
          "text": [
            "Mounted at /content/drive\n"
          ]
        }
      ]
    },
    {
      "cell_type": "code",
      "source": [
        "# Define paths to the dataset\n",
        "train_dir = '/content/drive/MyDrive/train (1)'  # Update with your actual path\n",
        "test_dir = '/content/drive/MyDrive/test (1)'    # Update with your actual path"
      ],
      "metadata": {
        "id": "g6HrqrEKYgeK"
      },
      "execution_count": 18,
      "outputs": []
    },
    {
      "cell_type": "code",
      "source": [
        "import os\n",
        "print(len(os.listdir('/content/drive/MyDrive/train (1)/chihuahua')))\n",
        "print(len(os.listdir('/content/drive/MyDrive/train (1)/muffin')))\n",
        "print(len(os.listdir('/content/drive/MyDrive/test (1)/chihuahua')))\n",
        "print(len(os.listdir('/content/drive/MyDrive/test (1)/muffin')))"
      ],
      "metadata": {
        "colab": {
          "base_uri": "https://localhost:8080/"
        },
        "id": "n7HpaJEvY2bh",
        "outputId": "7d997841-d0ce-4cc1-8d06-8899d9896d40"
      },
      "execution_count": 19,
      "outputs": [
        {
          "output_type": "stream",
          "name": "stdout",
          "text": [
            "500\n",
            "500\n",
            "160\n",
            "144\n"
          ]
        }
      ]
    },
    {
      "cell_type": "code",
      "source": [
        "import tensorflow as tf\n",
        "from tensorflow.keras.preprocessing.image import ImageDataGenerator\n",
        "\n",
        "# Create ImageDataGenerator for training set\n",
        "train_datagen = ImageDataGenerator(\n",
        "    rescale=1./255,\n",
        "    validation_split=0.2  # Split 20% of the images for validation\n",
        ")\n",
        "\n",
        "# Load and prepare training data\n",
        "train_data = train_datagen.flow_from_directory(\n",
        "    train_dir,\n",
        "    target_size=(256,256),\n",
        "    batch_size=32,\n",
        "    class_mode='binary',  # 'binary' for binary classification (Muffin vs. chihuahua)\n",
        "    subset='training'  # Specify 'training' for the training set\n",
        ")\n",
        "\n",
        "# Create ImageDataGenerator for validation set\n",
        "validation_datagen = ImageDataGenerator(\n",
        "    rescale=1./255,\n",
        "    validation_split=0.2  # Note: Using the same validation split as in the training set\n",
        ")\n",
        "\n",
        "# Load and prepare validation data\n",
        "validation_data = validation_datagen.flow_from_directory(\n",
        "    train_dir,\n",
        "    target_size=(256,256),\n",
        "    batch_size=32,\n",
        "    class_mode='binary',\n",
        "    subset='validation'  # Specify 'validation' for the validation set\n",
        ")"
      ],
      "metadata": {
        "colab": {
          "base_uri": "https://localhost:8080/"
        },
        "id": "7R9eYKtQY-aF",
        "outputId": "05323165-4888-4aba-f702-ebe012d91e1f"
      },
      "execution_count": 20,
      "outputs": [
        {
          "output_type": "stream",
          "name": "stdout",
          "text": [
            "Found 800 images belonging to 2 classes.\n",
            "Found 200 images belonging to 2 classes.\n"
          ]
        }
      ]
    },
    {
      "cell_type": "code",
      "source": [
        "from tensorflow import keras\n",
        "from keras import Sequential\n",
        "from keras.layers import Dense,Conv2D,MaxPooling2D,Flatten\n",
        "\n",
        "resnet_model = Sequential()    #ResNet50 is a pre-trained model\n",
        "pretrained_model = tf.keras.applications.ResNet50(include_top = False, #because i have my own image of a diff dimension\n",
        "                                                input_shape = (256,256,3),\n",
        "                                                pooling = 'max', classes = 2,\n",
        "                                                weights = 'imagenet')\n",
        "for layer in pretrained_model.layers:\n",
        "    layer.trainable = False  #all layers in the Resnet50 is not trainable; keep those weights; I am going to add my own i/p and other layers\n",
        "\n",
        "resnet_model.add(pretrained_model)\n",
        "resnet_model.add(Flatten())\n",
        "resnet_model.add(Dense(512, activation = 'relu'))\n",
        "resnet_model.add(Dense(1, activation = 'sigmoid'))"
      ],
      "metadata": {
        "colab": {
          "base_uri": "https://localhost:8080/"
        },
        "id": "sasX7lBBZJ5l",
        "outputId": "f2a94fb0-d865-40d2-dddc-08b3ee777963"
      },
      "execution_count": 21,
      "outputs": [
        {
          "output_type": "stream",
          "name": "stdout",
          "text": [
            "Downloading data from https://storage.googleapis.com/tensorflow/keras-applications/resnet/resnet50_weights_tf_dim_ordering_tf_kernels_notop.h5\n",
            "94765736/94765736 [==============================] - 1s 0us/step\n"
          ]
        }
      ]
    },
    {
      "cell_type": "code",
      "source": [
        "resnet_model.summary()"
      ],
      "metadata": {
        "colab": {
          "base_uri": "https://localhost:8080/"
        },
        "id": "ZCYBw8n2ZRRP",
        "outputId": "f1d6de76-82f9-47bf-d4b5-131b8c11425b"
      },
      "execution_count": 22,
      "outputs": [
        {
          "output_type": "stream",
          "name": "stdout",
          "text": [
            "Model: \"sequential_1\"\n",
            "_________________________________________________________________\n",
            " Layer (type)                Output Shape              Param #   \n",
            "=================================================================\n",
            " resnet50 (Functional)       (None, 2048)              23587712  \n",
            "                                                                 \n",
            " flatten_1 (Flatten)         (None, 2048)              0         \n",
            "                                                                 \n",
            " dense_3 (Dense)             (None, 512)               1049088   \n",
            "                                                                 \n",
            " dense_4 (Dense)             (None, 1)                 513       \n",
            "                                                                 \n",
            "=================================================================\n",
            "Total params: 24637313 (93.98 MB)\n",
            "Trainable params: 1049601 (4.00 MB)\n",
            "Non-trainable params: 23587712 (89.98 MB)\n",
            "_________________________________________________________________\n"
          ]
        }
      ]
    },
    {
      "cell_type": "code",
      "source": [
        "from keras.optimizers import Adam\n",
        "resnet_model.compile(optimizer=Adam(learning_rate=0.001),loss='binary_crossentropy',metrics=['accuracy']) #binary_crossentropy - binary classification"
      ],
      "metadata": {
        "id": "zeVc4PuuZZ5o"
      },
      "execution_count": 23,
      "outputs": []
    },
    {
      "cell_type": "code",
      "source": [
        "history = resnet_model.fit(train_data, epochs=3, validation_data=validation_data)"
      ],
      "metadata": {
        "colab": {
          "base_uri": "https://localhost:8080/"
        },
        "id": "BPysq7kAZd7x",
        "outputId": "33f8c581-1ccc-4baa-913e-9de838ce2a21"
      },
      "execution_count": 24,
      "outputs": [
        {
          "output_type": "stream",
          "name": "stdout",
          "text": [
            "Epoch 1/3\n",
            "25/25 [==============================] - 266s 10s/step - loss: 2.2778 - accuracy: 0.5362 - val_loss: 1.2792 - val_accuracy: 0.5150\n",
            "Epoch 2/3\n",
            "25/25 [==============================] - 286s 12s/step - loss: 0.7984 - accuracy: 0.6375 - val_loss: 0.6158 - val_accuracy: 0.6800\n",
            "Epoch 3/3\n",
            "25/25 [==============================] - 251s 10s/step - loss: 0.5754 - accuracy: 0.7163 - val_loss: 0.5266 - val_accuracy: 0.7300\n"
          ]
        }
      ]
    },
    {
      "cell_type": "code",
      "source": [
        "import matplotlib.pyplot as plt\n",
        "\n",
        "plt.plot(history.history['accuracy'],color='red',label='train')\n",
        "plt.plot(history.history['val_accuracy'],color='blue',label='validation')\n",
        "plt.legend()\n",
        "plt.show()"
      ],
      "metadata": {
        "colab": {
          "base_uri": "https://localhost:8080/",
          "height": 430
        },
        "id": "eCG46dGnfRNX",
        "outputId": "d698069a-3cde-4a82-b3a1-52cc5b71cc8e"
      },
      "execution_count": 25,
      "outputs": [
        {
          "output_type": "display_data",
          "data": {
            "text/plain": [
              "<Figure size 640x480 with 1 Axes>"
            ],
            "image/png": "[encoded data removed]"
          },
          "metadata": {}
        }
      ]
    },
    {
      "cell_type": "code",
      "source": [
        "plt.plot(history.history['loss'],color='red',label='train')\n",
        "plt.plot(history.history['val_loss'],color='blue',label='validation')\n",
        "plt.legend()\n",
        "plt.show()"
      ],
      "metadata": {
        "colab": {
          "base_uri": "https://localhost:8080/",
          "height": 430
        },
        "id": "oIrIvyISfV8d",
        "outputId": "b54b0f5c-b4e6-4359-c79d-b267795d88df"
      },
      "execution_count": 26,
      "outputs": [
        {
          "output_type": "display_data",
          "data": {
            "text/plain": [
              "<Figure size 640x480 with 1 Axes>"
            ],
            "image/png": "[encoded data removed]"
          },
          "metadata": {}
        }
      ]
    },
    {
      "cell_type": "code",
      "source": [
        "test_datagen = ImageDataGenerator(rescale=1./255)\n",
        "test_data = test_datagen.flow_from_directory(\n",
        "    test_dir,\n",
        "    target_size=(256,256),\n",
        "    batch_size=32,\n",
        "    class_mode='binary'\n",
        ")"
      ],
      "metadata": {
        "colab": {
          "base_uri": "https://localhost:8080/"
        },
        "id": "GwU1zjBxfaW4",
        "outputId": "4b07161c-5c22-477e-8246-4f4fed9a284e"
      },
      "execution_count": 27,
      "outputs": [
        {
          "output_type": "stream",
          "name": "stdout",
          "text": [
            "Found 304 images belonging to 2 classes.\n"
          ]
        }
      ]
    },
    {
      "cell_type": "code",
      "source": [
        "#predict the test data\n",
        "predictions = resnet_model.predict(test_data)\n",
        "print(predictions)"
      ],
      "metadata": {
        "colab": {
          "base_uri": "https://localhost:8080/"
        },
        "id": "zQg-Cdzlfesi",
        "outputId": "36f99810-8347-4af2-c788-fb5df160ac86"
      },
      "execution_count": 28,
      "outputs": [
        {
          "output_type": "stream",
          "name": "stdout",
          "text": [
            "10/10 [==============================] - 82s 8s/step\n",
            "[[2.45188788e-01]\n",
            " [6.47265971e-01]\n",
            " [1.57938629e-01]\n",
            " [8.98894668e-01]\n",
            " [5.41438699e-01]\n",
            " [5.06821036e-01]\n",
            " [9.56257164e-01]\n",
            " [1.40091792e-01]\n",
            " [8.34616780e-01]\n",
            " [1.87392861e-01]\n",
            " [6.65004477e-02]\n",
            " [1.93038285e-01]\n",
            " [5.40489912e-01]\n",
            " [2.86592603e-01]\n",
            " [4.07221215e-03]\n",
            " [8.08513165e-01]\n",
            " [3.49692732e-01]\n",
            " [6.20477021e-01]\n",
            " [5.11696815e-01]\n",
            " [3.53861064e-01]\n",
            " [5.16247809e-01]\n",
            " [3.57010067e-01]\n",
            " [2.17665181e-01]\n",
            " [6.43270075e-01]\n",
            " [2.02500746e-01]\n",
            " [1.97493061e-01]\n",
            " [1.50658324e-01]\n",
            " [4.48695630e-01]\n",
            " [2.11837098e-01]\n",
            " [7.58590043e-01]\n",
            " [4.19303477e-01]\n",
            " [7.67135620e-01]\n",
            " [3.06202739e-01]\n",
            " [6.24025583e-01]\n",
            " [7.33301163e-01]\n",
            " [6.26933992e-01]\n",
            " [5.18646091e-02]\n",
            " [9.46468592e-01]\n",
            " [7.73695171e-01]\n",
            " [1.29748851e-01]\n",
            " [5.11218965e-01]\n",
            " [1.35625184e-01]\n",
            " [5.34931123e-01]\n",
            " [2.99373507e-01]\n",
            " [2.36300707e-01]\n",
            " [4.26598012e-01]\n",
            " [8.15729201e-01]\n",
            " [4.11799312e-01]\n",
            " [1.95901603e-01]\n",
            " [6.20956421e-01]\n",
            " [3.91559690e-01]\n",
            " [2.44337037e-01]\n",
            " [3.79320055e-01]\n",
            " [7.84948587e-01]\n",
            " [2.36685544e-01]\n",
            " [9.40259457e-01]\n",
            " [4.55952495e-01]\n",
            " [3.94594342e-01]\n",
            " [5.96404612e-01]\n",
            " [3.49396467e-01]\n",
            " [6.55430615e-01]\n",
            " [8.50161493e-01]\n",
            " [2.74898529e-01]\n",
            " [4.32167530e-01]\n",
            " [8.81651700e-01]\n",
            " [8.03491771e-01]\n",
            " [3.38430852e-01]\n",
            " [2.93017030e-01]\n",
            " [2.22029313e-01]\n",
            " [2.11099654e-01]\n",
            " [5.04327476e-01]\n",
            " [3.91774207e-01]\n",
            " [2.96446443e-01]\n",
            " [9.45724368e-01]\n",
            " [4.92700219e-01]\n",
            " [2.78971463e-01]\n",
            " [5.87777615e-01]\n",
            " [3.94240648e-01]\n",
            " [1.02326348e-01]\n",
            " [9.27338779e-01]\n",
            " [9.61621046e-01]\n",
            " [4.40135717e-01]\n",
            " [1.32190183e-01]\n",
            " [4.05549139e-01]\n",
            " [2.46860713e-01]\n",
            " [1.35850906e-01]\n",
            " [8.26390386e-01]\n",
            " [2.38693818e-01]\n",
            " [3.59907484e-04]\n",
            " [2.80009121e-01]\n",
            " [4.55781788e-01]\n",
            " [8.55492175e-01]\n",
            " [4.45412487e-01]\n",
            " [2.16403175e-02]\n",
            " [4.87371653e-01]\n",
            " [2.65180171e-01]\n",
            " [4.74150449e-01]\n",
            " [5.99191368e-01]\n",
            " [5.05808175e-01]\n",
            " [3.24134827e-01]\n",
            " [1.14532210e-01]\n",
            " [2.46227370e-03]\n",
            " [2.83059359e-01]\n",
            " [7.73315966e-01]\n",
            " [1.25679359e-01]\n",
            " [2.86977470e-01]\n",
            " [1.26462370e-01]\n",
            " [6.79090023e-02]\n",
            " [6.62139595e-01]\n",
            " [8.08974206e-01]\n",
            " [3.57080281e-01]\n",
            " [8.89418840e-01]\n",
            " [4.19017613e-01]\n",
            " [7.66519785e-01]\n",
            " [1.98909104e-01]\n",
            " [6.83059990e-01]\n",
            " [8.34582686e-01]\n",
            " [2.42881253e-01]\n",
            " [7.15878084e-02]\n",
            " [9.00298774e-01]\n",
            " [2.60701180e-01]\n",
            " [1.22630291e-01]\n",
            " [9.68127698e-02]\n",
            " [8.75783414e-02]\n",
            " [1.14905640e-01]\n",
            " [5.01551449e-01]\n",
            " [9.24076617e-01]\n",
            " [9.45057273e-01]\n",
            " [2.17008248e-01]\n",
            " [2.28773966e-01]\n",
            " [3.79913330e-01]\n",
            " [2.63218969e-01]\n",
            " [7.30582356e-01]\n",
            " [4.72612120e-03]\n",
            " [1.42715722e-01]\n",
            " [4.74607319e-01]\n",
            " [2.70130485e-01]\n",
            " [8.93555820e-01]\n",
            " [2.42600694e-01]\n",
            " [7.04954267e-01]\n",
            " [3.40404421e-01]\n",
            " [7.10467756e-01]\n",
            " [1.16435111e-01]\n",
            " [2.63355851e-01]\n",
            " [2.86762476e-01]\n",
            " [4.00716901e-01]\n",
            " [4.10805410e-03]\n",
            " [3.81304711e-01]\n",
            " [3.09533924e-01]\n",
            " [5.67630351e-01]\n",
            " [5.93022183e-02]\n",
            " [5.81890285e-01]\n",
            " [5.90190649e-01]\n",
            " [1.28107622e-01]\n",
            " [7.88832735e-03]\n",
            " [8.34395289e-01]\n",
            " [7.74758339e-01]\n",
            " [8.70826125e-01]\n",
            " [6.50324225e-01]\n",
            " [1.69241101e-01]\n",
            " [3.55570436e-01]\n",
            " [2.94013500e-01]\n",
            " [2.30825350e-01]\n",
            " [3.54794472e-01]\n",
            " [4.47210491e-01]\n",
            " [3.64543080e-01]\n",
            " [9.71743524e-01]\n",
            " [6.67166889e-01]\n",
            " [3.86775434e-01]\n",
            " [9.07216907e-01]\n",
            " [7.86256492e-01]\n",
            " [1.83059633e-01]\n",
            " [7.75981069e-01]\n",
            " [9.22107458e-01]\n",
            " [7.78172910e-01]\n",
            " [1.01987429e-01]\n",
            " [5.10598600e-01]\n",
            " [2.44554460e-01]\n",
            " [7.08010137e-01]\n",
            " [2.42382511e-01]\n",
            " [4.86930877e-01]\n",
            " [5.41196585e-01]\n",
            " [5.97144127e-01]\n",
            " [7.84980774e-01]\n",
            " [9.03707147e-01]\n",
            " [8.22514832e-01]\n",
            " [5.91301322e-01]\n",
            " [1.26317451e-02]\n",
            " [9.56303298e-01]\n",
            " [8.90471101e-01]\n",
            " [7.53489494e-01]\n",
            " [5.90925872e-01]\n",
            " [6.68127596e-01]\n",
            " [2.39298865e-01]\n",
            " [3.18836510e-01]\n",
            " [5.72930634e-01]\n",
            " [7.31143057e-01]\n",
            " [2.09453359e-01]\n",
            " [2.40892589e-01]\n",
            " [3.87227982e-01]\n",
            " [2.54071981e-01]\n",
            " [6.14641845e-01]\n",
            " [6.89425841e-02]\n",
            " [8.61358643e-01]\n",
            " [8.94686997e-01]\n",
            " [1.45119280e-01]\n",
            " [9.36767399e-01]\n",
            " [2.18357712e-01]\n",
            " [4.75023448e-01]\n",
            " [2.61437327e-01]\n",
            " [2.22499341e-01]\n",
            " [2.48395339e-01]\n",
            " [3.57947409e-01]\n",
            " [1.18083082e-01]\n",
            " [3.59010845e-01]\n",
            " [2.41916284e-01]\n",
            " [8.41403306e-01]\n",
            " [4.78331715e-01]\n",
            " [1.18387505e-01]\n",
            " [6.95070207e-01]\n",
            " [9.44961965e-01]\n",
            " [7.15635777e-01]\n",
            " [3.32282901e-01]\n",
            " [5.13061106e-01]\n",
            " [1.80952862e-01]\n",
            " [1.20213769e-01]\n",
            " [3.93388212e-01]\n",
            " [6.19821310e-01]\n",
            " [7.53623486e-01]\n",
            " [8.89355958e-01]\n",
            " [9.70105827e-02]\n",
            " [1.02898531e-01]\n",
            " [3.93077701e-01]\n",
            " [7.15982199e-01]\n",
            " [2.30251625e-01]\n",
            " [3.84920090e-01]\n",
            " [3.39118063e-01]\n",
            " [4.78680223e-01]\n",
            " [2.89679706e-01]\n",
            " [8.71034622e-01]\n",
            " [8.55772972e-01]\n",
            " [8.40865016e-01]\n",
            " [4.08863246e-01]\n",
            " [1.74051642e-01]\n",
            " [9.67465714e-02]\n",
            " [5.11854112e-01]\n",
            " [1.26959175e-01]\n",
            " [2.88366497e-01]\n",
            " [4.17397052e-01]\n",
            " [1.71035603e-01]\n",
            " [3.70109200e-01]\n",
            " [2.54058093e-01]\n",
            " [2.94949710e-01]\n",
            " [9.20770943e-01]\n",
            " [5.62126935e-01]\n",
            " [5.51260769e-01]\n",
            " [4.42055076e-01]\n",
            " [3.08969885e-01]\n",
            " [4.58823949e-01]\n",
            " [6.35441184e-01]\n",
            " [3.93741667e-01]\n",
            " [7.73102880e-01]\n",
            " [7.72221744e-01]\n",
            " [1.44424751e-01]\n",
            " [4.23038244e-01]\n",
            " [3.72725010e-01]\n",
            " [2.15036310e-02]\n",
            " [5.59071839e-01]\n",
            " [5.17952800e-01]\n",
            " [1.44054234e-01]\n",
            " [7.50561833e-01]\n",
            " [5.99081039e-01]\n",
            " [2.06396803e-01]\n",
            " [1.56256229e-01]\n",
            " [7.09043503e-01]\n",
            " [5.17067492e-01]\n",
            " [6.15297258e-01]\n",
            " [4.97425705e-01]\n",
            " [9.22655225e-01]\n",
            " [8.77812564e-01]\n",
            " [6.87874615e-01]\n",
            " [8.14412758e-02]\n",
            " [2.19335228e-01]\n",
            " [1.57085049e-03]\n",
            " [1.57045856e-01]\n",
            " [4.02509183e-01]\n",
            " [3.33309680e-01]\n",
            " [2.19725445e-01]\n",
            " [8.49556208e-01]\n",
            " [7.96225011e-01]\n",
            " [8.75250220e-01]\n",
            " [3.18555087e-01]\n",
            " [8.00587535e-01]\n",
            " [7.34367430e-01]\n",
            " [3.95958126e-01]\n",
            " [1.64067864e-01]\n",
            " [7.39434719e-01]\n",
            " [3.26273352e-01]\n",
            " [9.29114521e-01]\n",
            " [7.20364928e-01]\n",
            " [9.02889013e-01]\n",
            " [1.69053689e-01]\n",
            " [4.87067044e-01]\n",
            " [7.65391514e-02]]\n"
          ]
        }
      ]
    },
    {
      "cell_type": "code",
      "source": [
        "len(predictions)"
      ],
      "metadata": {
        "colab": {
          "base_uri": "https://localhost:8080/"
        },
        "id": "7uNvQRS7ggcJ",
        "outputId": "4d4b8d10-d9cc-4181-c814-59b267d6f25a"
      },
      "execution_count": 29,
      "outputs": [
        {
          "output_type": "execute_result",
          "data": {
            "text/plain": [
              "304"
            ]
          },
          "metadata": {},
          "execution_count": 29
        }
      ]
    },
    {
      "cell_type": "code",
      "source": [
        "from sklearn.metrics import confusion_matrix, classification_report\n",
        "\n",
        "# Assuming you have ground truth labels (true_labels) and predicted labels (predictions)\n",
        "true_labels = test_data.classes\n",
        "predicted_labels = (predictions > 0.5).astype(int)  # Adjust the threshold as needed\n",
        "\n",
        "# Calculate confusion matrix\n",
        "cm = confusion_matrix(true_labels, predicted_labels)\n",
        "\n",
        "# Print confusion matrix\n",
        "print(\"Confusion Matrix:\")\n",
        "print(cm)\n",
        "\n",
        "# Print classification report\n",
        "print(\"Classification Report:\")\n",
        "print(classification_report(true_labels, predicted_labels))"
      ],
      "metadata": {
        "colab": {
          "base_uri": "https://localhost:8080/"
        },
        "id": "-YXFGSsggpjf",
        "outputId": "0c2b6bdd-8942-46cd-ef2d-42628c5b467e"
      },
      "execution_count": 30,
      "outputs": [
        {
          "output_type": "stream",
          "name": "stdout",
          "text": [
            "Confusion Matrix:\n",
            "[[99 61]\n",
            " [80 64]]\n",
            "Classification Report:\n",
            "              precision    recall  f1-score   support\n",
            "\n",
            "           0       0.55      0.62      0.58       160\n",
            "           1       0.51      0.44      0.48       144\n",
            "\n",
            "    accuracy                           0.54       304\n",
            "   macro avg       0.53      0.53      0.53       304\n",
            "weighted avg       0.53      0.54      0.53       304\n",
            "\n"
          ]
        }
      ]
    }
  ]
}